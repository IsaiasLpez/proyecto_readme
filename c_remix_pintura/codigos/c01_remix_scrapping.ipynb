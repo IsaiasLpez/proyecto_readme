{
 "cells": [
  {
   "cell_type": "markdown",
   "id": "f4983f21-ef9d-40db-b357-94dea210b2ee",
   "metadata": {},
   "source": [
    "# README 2025: REMIX PINTURA - SCRAPPING IMAGENES Y DATOS\n",
    "\n",
    " "
   ]
  },
  {
   "cell_type": "code",
   "execution_count": 2,
   "id": "31113386-c69e-44f2-8034-f90281afb51d",
   "metadata": {},
   "outputs": [],
   "source": [
    "## IMPORTAR LIBRERÍAS: \n",
    "\n",
    "import pandas as pd # para trabajar con datios\n",
    "import matplotlib.pyplot as plt # importar libreria visualizacion.\n",
    "\n",
    "import requests # para conectarse a las url de las noticias en la web\n",
    "from bs4 import BeautifulSoup # para hacer scraping desde sitios web permote seleccinar los tags y capturar los elementos que contiene \n",
    "\n",
    "#import unicodedata\n"
   ]
  },
  {
   "cell_type": "code",
   "execution_count": 66,
   "id": "591b2ca4-e501-4c3b-943c-20618cd3073d",
   "metadata": {},
   "outputs": [],
   "source": []
  },
  {
   "cell_type": "markdown",
   "id": "e4d2ec50-9406-41aa-841e-131d0ddcceec",
   "metadata": {},
   "source": [
    "## **RECOLECCIÓN Y ESTRUCTURACIÓN:**  \n",
    "\n",
    "A1- Scrapping:   \n",
    "A2- Recolección de datos: \n"
   ]
  },
  {
   "cell_type": "markdown",
   "id": "5b43cdac-ab3f-4cab-babc-5770e0f73940",
   "metadata": {},
   "source": [
    "### A1- Scrapping: \n",
    "\n",
    "Web ejemplo:\n",
    "\n",
    "https://www.surdoc.cl/registro/2-381\n"
   ]
  },
  {
   "cell_type": "code",
   "execution_count": 115,
   "id": "09a1b2b3-e41a-4f0b-a4fc-7d285b57048a",
   "metadata": {},
   "outputs": [
    {
     "data": {
      "text/plain": [
       "200"
      ]
     },
     "execution_count": 115,
     "metadata": {},
     "output_type": "execute_result"
    }
   ],
   "source": [
    "##\n",
    "l_ulr1 = [ 'https://www.surdoc.cl/registro/2-381',\n",
    "           'https://www.surdoc.cl/registro/10-207'\n",
    "        ]\n",
    "## Preguntar por respuesta desde el servidor que aloja la página. \n",
    "req = requests.get(l_ulr1[0])\n",
    "larespuesta = req.status_code \n",
    "\n",
    "## mostrar respuesta, se puede demorar un poco\n",
    "print( larespuesta )\n"
   ]
  },
  {
   "cell_type": "code",
   "execution_count": 18,
   "id": "5c05bed3-fe62-4ab7-b8cb-cf888271f6ed",
   "metadata": {},
   "outputs": [],
   "source": [
    "## Ver HTML  \n",
    "soup = BeautifulSoup(req.content.decode(\"utf-8\"),  \"html.parser\")\n",
    "# mostrar el html\n",
    "#soup1\n",
    "\n",
    "# Mostrar elemento a ver si toma\n",
    "ejemplo = soup.find(\"h1\").text.strip() \n",
    "# mostrar\n",
    "print( ejemplo )\n"
   ]
  },
  {
   "cell_type": "markdown",
   "id": "e2cb1554",
   "metadata": {},
   "source": [
    "## Obtener elementos pagina"
   ]
  },
  {
   "cell_type": "code",
   "execution_count": 111,
   "id": "a99dd0df-c61b-4238-8c73-2d2660d053a2",
   "metadata": {},
   "outputs": [
    {
     "name": "stdout",
     "output_type": "stream",
     "text": [
      "De formato rectangular, composición rectangular figurativa que representa un busto femenino a modo de retrato, mirada al frente ojos negros labios rojo suave, usa el pelo tomado atrás en un moño con partidura al medio. Viste ropa color celeste con escote, atrás fondo azul gris con franjas cafe.\n"
     ]
    }
   ],
   "source": [
    "# Ejemplos estáticos \n",
    "# obtiene el elemento d_instit     = soup.find(\"div\", class_=\"field--name-institution-id\").text.strip() \n",
    "# selecciona el valor, no la variable d_instit = d_instit.split(\"\\n\")[1]\n",
    "\n",
    "d_titulo = soup.find(\"div\", class_=\"field--name-titles\").text.strip() \n",
    "d_titulo = d_titulo.split(\"\\n\")[2]\n",
    "##\n",
    "d_creador = soup.find(\"div\", class_=\"creator-name-item\").text.strip() \n",
    "d_creador = d_creador.split(\"\\n\")[0]\n",
    "##\n",
    "d_instit     = soup.find(\"div\", class_=\"field--name-institution-id\").text.strip() \n",
    "d_instit = d_instit.split(\"\\n\")[1]\n",
    "##\n",
    "d_fecha = soup.find(\"div\", class_=\"field--name-hist-geo-creation-date\").text.strip() \n",
    "d_fecha = d_fecha.split(\"\\n\")[1]\n",
    "##\n",
    "d_num_registro = soup.find(\"div\", class_=\"field--name-record-number\").text.strip() \n",
    "d_num_registro = d_num_registro.split(\"\\n\")[1]\n",
    "##\n",
    "d_num_inventario = soup.find(\"div\", class_=\"field--name-inventory-numbers\").text.strip() \n",
    "d_num_inventario = d_num_inventario.split(\"\\n\")[2]\n",
    "##\n",
    "d_clasificacion  = soup.find(\"div\", class_=\"field--name-second-level-classification\").text.strip() \n",
    "d_clasificacion = d_clasificacion.split(\"\\n\")[1]\n",
    "##\n",
    "d_coleccion      = soup.find(\"div\", class_=\"field--name-collection\").text.strip() \n",
    "d_coleccion      = d_coleccion.split(\"\\n\")[2]\n",
    "##\n",
    "d_descripcion = soup.find(\"div\", class_=\"field--name-physical-description\").text.strip() \n",
    "d_descripcion = d_descripcion.split(\"\\n\")[1] \n",
    "print( d_descripcion )\n",
    "\n"
   ]
  },
  {
   "cell_type": "code",
   "execution_count": 117,
   "id": "5e4f0b18",
   "metadata": {},
   "outputs": [
    {
     "name": "stdout",
     "output_type": "stream",
     "text": [
      "De formato rectangular, composición rectangular figurativa que representa un busto femenino a modo de retrato, mirada al frente ojos negros labios rojo suave, usa el pelo tomado atrás en un moño con partidura al medio. Viste ropa color celeste con escote, atrás fondo azul gris con franjas cafe.\n",
      "Composición en base a cabeza de personaje masculino de medio perfil, cuello alto, pelo rizado y patillas que le cubren las mejillas. Marco dorado y paspartú de color crema.\n"
     ]
    }
   ],
   "source": [
    "for i in range( len(l_ulr1) ): \n",
    "    \n",
    "    req = requests.get(l_ulr1[i])\n",
    "    larespuesta = req.status_code \n",
    "    soup = BeautifulSoup(req.content.decode(\"utf-8\"),  \"html.parser\")\n",
    "\n",
    "    d_titulo = soup.find(\"div\", class_=\"field--name-titles\").text.strip() \n",
    "    d_titulo = d_titulo.split(\"\\n\")[2]\n",
    "\n",
    "    d_creador = soup.find(\"div\", class_=\"creator-name-item\").text.strip() \n",
    "    d_creador = d_creador.split(\"\\n\")[0]\n",
    "\n",
    "    d_instit     = soup.find(\"div\", class_=\"field--name-institution-id\").text.strip() \n",
    "    d_instit = d_instit.split(\"\\n\")[1]\n",
    "    \n",
    "    #d_fecha = soup.find(\"div\", class_=\"field--name-hist-geo-creation-date\").text.strip() \n",
    "    #d_fecha = d_fecha.split(\"\\n\")[1]\n",
    "\n",
    "    d_num_registro = soup.find(\"div\", class_=\"field--name-record-number\").text.strip() \n",
    "    d_num_registro = d_num_registro.split(\"\\n\")[1]\n",
    "\n",
    "    d_num_inventario = soup.find(\"div\", class_=\"field--name-inventory-numbers\").text.strip() \n",
    "    d_num_inventario = d_num_inventario.split(\"\\n\")[2]\n",
    "\n",
    "    d_clasificacion  = soup.find(\"div\", class_=\"field--name-second-level-classification\").text.strip() \n",
    "    d_clasificacion = d_clasificacion.split(\"\\n\")[1]\n",
    "\n",
    "    d_coleccion      = soup.find(\"div\", class_=\"field--name-collection\").text.strip() \n",
    "    d_coleccion      = d_coleccion.split(\"\\n\")[2]\n",
    "\n",
    "    d_descripcion = soup.find(\"div\", class_=\"field--name-physical-description\").text.strip() \n",
    "    d_descripcion = d_descripcion.split(\"\\n\")[1] \n",
    "    print( d_descripcion )\n",
    "\n",
    "\n",
    "\n"
   ]
  },
  {
   "cell_type": "code",
   "execution_count": 106,
   "id": "3ff4f2a0-7e95-49c0-bbe4-8233f63175fa",
   "metadata": {},
   "outputs": [],
   "source": [
    "## FALTAN ESTOS, probar otros metodos bspup\n",
    "\n",
    "d_x = soup.find_all(\"div\", class_=\"field field--hidden field--type-entity-reference-revisions field--name-object object-items\") \n",
    "#d_x.find_all(\"label\")\n",
    "#print( d_x  )\n",
    "\n",
    "d_tecnica_material = \"\"  \n",
    "d_ubicacion   =  \"\"\n",
    "\n",
    "\n",
    "# Ver\n",
    "#d_objeto      =  soup.find(\"div\", class_=\"field--name-object object-items\").text.strip() \n",
    "#d_dimensiones = soup.find(\"div\", class_=\"field--name-object object-items\")\n",
    "\n",
    "# falta url de imagen par descargar\n",
    "#d_img_url = \"\"  \n"
   ]
  },
  {
   "cell_type": "markdown",
   "id": "b3723a44-ea05-4c89-af37-de1bbb1d91e8",
   "metadata": {},
   "source": [
    "## Llevar a listas para crear DataFrame"
   ]
  },
  {
   "cell_type": "code",
   "execution_count": 119,
   "id": "2c65f2e1-7f6a-4b3c-97f4-bf7f775bf8e7",
   "metadata": {},
   "outputs": [
    {
     "name": "stdout",
     "output_type": "stream",
     "text": [
      "[\"Retrato de Don Bernardo O'Higgins\", \"Retrato de Don Bernardo O'Higgins\"]\n",
      "['Pedro Subercaseaux', 'Pedro Subercaseaux']\n",
      "['Museo Regional de Rancagua', 'Museo Regional de Rancagua']\n",
      "['1926', '1926']\n",
      "['10-207', '10-207']\n",
      "['184', '184']\n",
      "['Arte - Artes Visuales', 'Arte - Artes Visuales']\n",
      "['Grabado', 'Grabado']\n",
      "['Composición en base a cabeza de personaje masculino de medio perfil, cuello alto, pelo rizado y patillas que le cubren las mejillas. Marco dorado y paspartú de color crema.', 'Composición en base a cabeza de personaje masculino de medio perfil, cuello alto, pelo rizado y patillas que le cubren las mejillas. Marco dorado y paspartú de color crema.']\n"
     ]
    }
   ],
   "source": [
    "## crear lista vacias para llenar\n",
    "\n",
    "l_titulo  = []\n",
    "l_creador = [] \n",
    "l_instit  = [] \n",
    "l_fecha   = []\n",
    "l_num_registro   = [] \n",
    "l_num_inventario = [] \n",
    "l_clasificacion  = [] \n",
    "l_coleccion      = []\n",
    "l_descripcion    = []\n",
    "\n",
    "# append elementos a listas segun largo de lista de url\n",
    "for i in range( len(l_ulr1) ): # l_ulr1 \n",
    "    l_titulo.append( d_titulo ) \n",
    "    l_creador.append( d_creador ) \n",
    "    l_instit.append( d_instit ) \n",
    "    l_fecha.append( d_fecha ) \n",
    "    l_num_registro.append( d_num_registro ) \n",
    "    l_num_inventario.append( d_num_inventario ) \n",
    "    l_clasificacion.append( d_clasificacion ) \n",
    "    l_coleccion.append( d_coleccion ) \n",
    "    l_descripcion.append( d_descripcion ) \n",
    "\n",
    "## Mostrar si los lee\n",
    "print( l_titulo ) \n",
    "print( l_creador ) \n",
    "print( l_instit ) \n",
    "print( l_fecha ) \n",
    "print( l_num_registro ) \n",
    "print( l_num_inventario ) \n",
    "print( l_clasificacion ) \n",
    "print( l_coleccion ) \n",
    "print( l_descripcion ) "
   ]
  },
  {
   "cell_type": "markdown",
   "id": "51a8ab46",
   "metadata": {},
   "source": [
    "## Proximos pasos\n",
    "- url de imagenes\n",
    "- obtener los que faltan sobre todo las doimensines\n",
    "- bajar imagenes\n",
    "- hacer lista de artistas\n",
    "- hhacer de \n",
    "\n",
    "Pintores. Ver retrato, paisaje y naturaleza muerta\n",
    "- Pedro Lira (1845-1912) \n",
    "- Juan Francisco González (1853-1933) \n",
    "- Alfredo Valenzuela Puelma (1856-1909) \n",
    "- Alberto Valenzuela Llanos (1869-1925)  \n",
    "Agregar otros mas, incluir mujeres. \n",
    "\n",
    "\n",
    "Referentes:\n",
    "https://es.wikipedia.org/wiki/Grandes_maestros_de_la_pintura_chilena#:~:text=Alberto%20Valenzuela%20Llanos%20(1869%2D1925,en%20el%20%C3%A1mbito%20paisajista%20nacional.\n",
    "\n",
    "    "
   ]
  },
  {
   "cell_type": "code",
   "execution_count": null,
   "id": "f4828abe",
   "metadata": {},
   "outputs": [],
   "source": []
  }
 ],
 "metadata": {
  "kernelspec": {
   "display_name": "Python 3 (ipykernel)",
   "language": "python",
   "name": "python3"
  },
  "language_info": {
   "codemirror_mode": {
    "name": "ipython",
    "version": 3
   },
   "file_extension": ".py",
   "mimetype": "text/x-python",
   "name": "python",
   "nbconvert_exporter": "python",
   "pygments_lexer": "ipython3",
   "version": "3.9.13"
  }
 },
 "nbformat": 4,
 "nbformat_minor": 5
}
